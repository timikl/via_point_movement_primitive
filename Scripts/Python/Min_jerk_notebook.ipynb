{
 "cells": [
  {
   "cell_type": "code",
   "execution_count": 356,
   "metadata": {},
   "outputs": [],
   "source": [
    "import numpy as np\n",
    "import matplotlib.pyplot as plt\n",
    "\n",
    "%matplotlib inline"
   ]
  },
  {
   "cell_type": "code",
   "execution_count": 357,
   "metadata": {},
   "outputs": [
    {
     "data": {
      "text/plain": [
       "[<matplotlib.lines.Line2D at 0x7f52843daca0>]"
      ]
     },
     "execution_count": 357,
     "metadata": {},
     "output_type": "execute_result"
    },
    {
     "data": {
      "image/png": "[encoded data removed]",
      "text/plain": [
       "<Figure size 640x480 with 1 Axes>"
      ]
     },
     "metadata": {},
     "output_type": "display_data"
    }
   ],
   "source": [
    "_scalartypes = (int, float, np.int64, np.int32, np.float64)\n",
    "\n",
    "\n",
    "def isscalar(x) -> bool:\n",
    "    \"\"\"Check if parameter is scalar number\n",
    "\n",
    "    Parameters\n",
    "    ----------\n",
    "    x : any\n",
    "        value to check\n",
    "\n",
    "    Returns\n",
    "    -------\n",
    "    bool\n",
    "        True if x is int or real  \n",
    "    \"\"\"\n",
    "    return isinstance(x, _scalartypes) or (isinstance(x, np.ndarray) and (x.size==1))\n",
    "\n",
    "def vector(x, dim=None):\n",
    "    \"\"\"Return a vector\n",
    "\n",
    "    Parameters\n",
    "    ----------\n",
    "    x : array-like\n",
    "        values to be transformed to vector\n",
    "    dim : int\n",
    "        required dimension; None: no length check\n",
    "\n",
    "    Returns\n",
    "    -------\n",
    "    ndarray\n",
    "        array in specified format\n",
    "    \"\"\"\n",
    "    if isinstance(x, (list, tuple)):\n",
    "        x = np.asarray(x)\n",
    "    elif isscalar(x):\n",
    "        x = np.asarray(x)\n",
    "    elif isinstance(x, np.ndarray):\n",
    "        x = x.flatten()\n",
    "    else:\n",
    "        raise TypeError(\"Invalid input type\")\n",
    "    if (dim is not None) and x.size != dim:\n",
    "        raise ValueError(\"Incorrect vector length\")\n",
    "    return x\n",
    "\n",
    "def jpoly(q0, q1, t, qd0=None, qd1=None):\n",
    "    \"\"\"Trajectory from q0 to q1 using 5th order polynomial\n",
    "\n",
    "    Parameters\n",
    "    ----------\n",
    "    q0 : array of floats\n",
    "        initial joint positions (n,)\n",
    "    q1 : array of floats\n",
    "        final joint position (n,)\n",
    "    t : array of floats\n",
    "        trajectory time (nsamp,)\n",
    "    qd0 : array of floats\n",
    "        Initial joint velocities (n,)\n",
    "    qd1 : array of floats\n",
    "        Final joint velocities (n,)\n",
    "\n",
    "    Returns\n",
    "    -------\n",
    "    array of floats\n",
    "        interpolated joint position (nsamp, n)\n",
    "    array of floats\n",
    "        interpolated joint velocities  (nsamp, n)\n",
    "    array of floats\n",
    "        interpolated joint accelerations  (nsamp, n)\n",
    "    \"\"\"\n",
    "    q0 = vector(q0)\n",
    "    q1 = vector(q1)\n",
    "    if qd0 is None:\n",
    "        qd0 = np.zeros(q0.shape)\n",
    "    else:\n",
    "        qd0 = vector(qd0)\n",
    "    if qd1 is None:\n",
    "        qd1 = np.zeros(q0.shape)\n",
    "    else:\n",
    "        qd1 = vector(qd1)\n",
    "    if q0.size==q1.size and qd0.size==q0.size and qd1.size==q1.size:\n",
    "        tmax = max(t)\n",
    "        t = np.copy(vector(t).T)/tmax\n",
    "\n",
    "        A =   6*(q1-q0)-3*(qd1+qd0)*tmax\n",
    "        B = -15*(q1-q0)+(8*qd0+7*qd1)*tmax\n",
    "        C =  10*(q1-q0)-(6*qd0+4*qd1)*tmax\n",
    "        E = qd0*tmax\n",
    "        F = q0\n",
    "  \n",
    "        tt = np.array([t**5, t**4, t**3, t**2, t, np.ones(t.shape)])\n",
    "        s = np.array([A, B, C, np.zeros(A.shape), E, F]).reshape((6,q0.size))\n",
    "        v = np.array([np.zeros(A.shape), 5 * A, 4 * B, 3 * C, np.zeros(A.shape), E]).reshape((6,q0.size))/tmax\n",
    "        a = np.array([np.zeros(A.shape), np.zeros(A.shape), 20 * A, 12 * B, 6 * C, np.zeros(A.shape)]).reshape((6,q0.size))/tmax**2\n",
    "        qt = np.einsum('ij,ik->kj',s,tt)\n",
    "        qdt = np.einsum('ij,ik->kj',v,tt)\n",
    "        qddt = np.einsum('ij,ik->kj',a,tt)\n",
    "        if q0.size==1:\n",
    "            return qt.flatten(), qdt.flatten(), qddt.flatten()\n",
    "        else:\n",
    "            return qt, qdt, qddt\n",
    "    else:\n",
    "        TypeError('Input vectors must be same size')\n",
    "\n",
    "\n",
    "q0 = [0]\n",
    "q1 = [1]\n",
    "t0 = 0\n",
    "t1 = 1\n",
    "\n",
    "n_pts = 1000\n",
    "original_traj = np.linspace(q0[0],q1[0],n_pts)\n",
    "\n",
    "t = np.linspace(t0,t1, n_pts)\n",
    "pos, vel, acc = jpoly(q0,q1, t = t)\n",
    "\n",
    "# Za pretvorit linearno trajektorijo v minimum jerk trajectory moras najprej narediti polinom petega reda ki gre od 0 do 1. (s)\n",
    "\n",
    "plt.plot(t, pos)\n",
    "\n",
    "plt.plot(t, original_traj)\n",
    "\n",
    "\n"
   ]
  },
  {
   "cell_type": "code",
   "execution_count": 358,
   "metadata": {},
   "outputs": [],
   "source": [
    "# Definiraj polinom petega reda\n",
    "\n",
    "#y = a*x**5 + b * x**4 \n",
    "\n",
    "# Definiraj zacetne pogoje\n",
    "\n",
    "# Na zacetku in koncu je pozicija taka kot želimo na začetku in koncu\n",
    "# y[0] = y0\n",
    "#y[-1] = y_end\n",
    "\n",
    "# Hitrost na začetku in koncu mora biti 0\n",
    "\n",
    "# pospešek na začetku in koncu mora biti 0\n",
    "\n",
    "# Enega še najdi\n",
    "# Mislim da daš samo eno točko not."
   ]
  },
  {
   "cell_type": "code",
   "execution_count": 359,
   "metadata": {},
   "outputs": [
    {
     "name": "stdout",
     "output_type": "stream",
     "text": [
      "[[33.54101966 32.18867986 31.13590282 30.41381265 30.04626063 30.04626063\n",
      "  30.41381265 31.13590282 32.18867986 33.54101966]\n",
      " [36.55285367 35.3160335  34.35921355 33.70624736 33.37497399 33.37497399\n",
      "  33.70624736 34.35921355 35.3160335  36.55285367]\n",
      " [39.61621441 38.47798794 37.60171391 37.00600552 36.70452591 36.70452591\n",
      "  37.00600552 37.60171391 38.47798794 39.61621441]\n",
      " [42.72001873 41.66666667 40.85883557 40.31128874 40.03470716 40.03470716\n",
      "  40.31128874 40.85883557 41.66666667 42.72001873]\n",
      " [45.85605497 44.87637339 44.12734098 43.62084109 43.36537277 43.36537277\n",
      "  43.62084109 44.12734098 44.87637339 45.85605497]\n",
      " [49.01813723 48.10289897 47.40487551 46.93375947 46.69641909 46.69641909\n",
      "  46.93375947 47.40487551 48.10289897 49.01813723]\n",
      " [52.20153254 51.34307267 50.68968775 50.24937811 50.02777007 50.02777007\n",
      "  50.24937811 50.68968775 51.34307267 52.20153254]\n",
      " [55.40256713 54.59446451 53.98044914 53.5671956  53.35936865 53.35936865\n",
      "  53.5671956  53.98044914 54.59446451 55.40256713]\n",
      " [58.61835132 57.85518319 57.27613426 56.88682722 56.69117117 56.69117117\n",
      "  56.88682722 57.27613426 57.85518319 58.61835132]\n",
      " [61.84658438 61.12373607 60.57593948 60.20797289 60.02314368 60.02314368\n",
      "  60.20797289 60.57593948 61.12373607 61.84658438]]\n"
     ]
    },
    {
     "data": {
      "image/png": "[encoded data removed]",
      "text/plain": [
       "<Figure size 640x480 with 1 Axes>"
      ]
     },
     "metadata": {},
     "output_type": "display_data"
    }
   ],
   "source": [
    "import matplotlib.pyplot as plt\n",
    "import numpy as np\n",
    "# Define the coordinates of the point\n",
    "x = np.linspace(30, 60, 10)\n",
    "y = np.linspace(0,30,10)\n",
    "distance = np.zeros([len(x),len(y)])\n",
    "point = [0,15]\n",
    "plt.scatter(0,15, marker='o', color='blue' )\n",
    "\n",
    "# Plot the point\n",
    "for i in y:\n",
    "    for j in x:\n",
    "        plt.scatter(j,i, marker='x', color='red' )\n",
    "\n",
    "# Set labels and title\n",
    "plt.title('')\n",
    "\n",
    "for i in range(len(x)):\n",
    "    for j in range(len(y)):\n",
    "        x_sum = (point[0]-x[i])**2\n",
    "        y_sum = (point[1]-y[j])**2\n",
    "        distance[i][j] = (np.sqrt(x_sum + y_sum))\n",
    "\n",
    "print(distance)\n",
    "plt.show()"
   ]
  },
  {
   "cell_type": "code",
   "execution_count": 363,
   "metadata": {},
   "outputs": [
    {
     "data": {
      "text/plain": [
       "'\\n        num_steps = int(t/dt + 1)\\n        # Create arrays of zeros\\n        y = np.zeros((2, num_steps), dtype=np.int32)\\n        dy = np.zeros((2, num_steps), dtype=np.int32)\\n        ddy = np.zeros((2, num_steps), dtype=np.int32)\\n\\n        for i in range(len(y)):\\n              i_t = (i-1)*dt;\\n              y(i) = a(1) * i_t^5 + a(2) * i_t^4 + a(3) * i_t^3 + a(4) * i_t^2 + a(5) * i_t + a(6);\\n              dy(i) = 5 * a(1) * i_t^4 + 4 * a(2) * i_t^3 + 3 * a(3) * i_t^2 + 2 * a(4) * i_t + a(5);\\n              ddy(i) = 20 * a(1) * i_t^3 + 12 * a(2) * i_t^2 + 6 * a(3) * i_t + 2 * a(4);\\n'"
      ]
     },
     "execution_count": 363,
     "metadata": {},
     "output_type": "execute_result"
    }
   ],
   "source": [
    "class polynomial:\n",
    "\n",
    "    #https://www.w3schools.com/python/python_classes.asp\n",
    "\n",
    "    def __init__(self,x0,dx0,ddx0,x1,dx1,ddx1,t,dt):\n",
    "        \n",
    "        x0 = np.asarray(x0)\n",
    "        dx0 = np.asarray(dx0)\n",
    "        ddx0 = np.asarray(ddx0)\n",
    "        x1 = np.asarray(x1)\n",
    "        dx1 = np.asarray(dx1)\n",
    "        ddx1 = np.asarray(ddx1)\n",
    "        self.dt = dt\n",
    "        self.t = t\n",
    "            \n",
    "        \n",
    "        a0 = np.asarray(x0)\n",
    "        a1 = np.asarray(dx0)\n",
    "        a2 = np.asarray(np.divide(ddx0 , 2))\n",
    "        a3 =  (20 * x1 - 20 * x0 - (8 * dx1 + 12 * dx0) * t - (3 * ddx0 - ddx1) * t**2) / (2 * t**3)\n",
    "        a4 =  (30 * x0 - 30 * x1 + (14 * dx1 + 16 * dx0) * t + (3 * ddx0 - 2 * ddx1) * t**2 ) / (2 * t**4)\n",
    "        a5 =  (12 * x1 - 12 * x0 - (6 * dx1 + 6 * dx0) * t - (ddx0 - ddx1) * t**2 ) /  (2 * t**5)\n",
    "\n",
    "        self.a = [a5, a4, a3, a2, a1, a0]\n",
    "\n",
    "    def trajectory_at_time(self, t):\n",
    "        \n",
    "        a5 = np.asarray(self.a[0])\n",
    "        a4 = np.asarray(self.a[1])\n",
    "        a3 = np.asarray(self.a[2])\n",
    "        a2 = np.asarray(self.a[3])\n",
    "        a1 = np.asarray(self.a[4])\n",
    "        a0 = np.asarray(self.a[5])\n",
    "\n",
    "\n",
    "        y = a5 * t**5 + a4 * t**4 + a3 * t**3 + a2 * t**2 + a1 * t + a0\n",
    "\n",
    "        return y\n",
    "    \n",
    "    def whole_trajectory(self):\n",
    "        #vector form 0 to t with number of elements t/dt\n",
    "        time_split = np.linspace(0, self.t, int(self.t/self.dt))\n",
    "\n",
    "        #generates len(time_split)+1 array of 0\n",
    "        trajectroy = [0]*(len(time_split)+1)  \n",
    "        j = 0\n",
    "        for i in time_split:\n",
    "            trajectroy[j] = self.trajectory_at_time(i)\n",
    "            j += 1\n",
    "\n",
    "\n",
    "\"\"\"\n",
    "        num_steps = int(t/dt + 1)\n",
    "        # Create arrays of zeros\n",
    "        y = np.zeros((2, num_steps), dtype=np.int32)\n",
    "        dy = np.zeros((2, num_steps), dtype=np.int32)\n",
    "        ddy = np.zeros((2, num_steps), dtype=np.int32)\n",
    "\n",
    "        for i in range(len(y)):\n",
    "              i_t = (i-1)*dt;\n",
    "              y(i) = a(1) * i_t^5 + a(2) * i_t^4 + a(3) * i_t^3 + a(4) * i_t^2 + a(5) * i_t + a(6);\n",
    "              dy(i) = 5 * a(1) * i_t^4 + 4 * a(2) * i_t^3 + 3 * a(3) * i_t^2 + 2 * a(4) * i_t + a(5);\n",
    "              ddy(i) = 20 * a(1) * i_t^3 + 12 * a(2) * i_t^2 + 6 * a(3) * i_t + 2 * a(4);\n",
    "\"\"\""
   ]
  },
  {
   "cell_type": "code",
   "execution_count": 365,
   "metadata": {},
   "outputs": [
    {
     "name": "stdout",
     "output_type": "stream",
     "text": [
      "[0. 7.]\n",
      "None\n"
     ]
    }
   ],
   "source": [
    "test_trajectory = polynomial([0,7],[0,0],[0,0],[10,3.14],[0,0],[0,0],3,0.01)\n",
    "print(test_trajectory.trajectory_at_time(0))\n",
    "\n",
    "print(test_trajectory.whole_trajectory())"
   ]
  }
 ],
 "metadata": {
  "kernelspec": {
   "display_name": "Python 3",
   "language": "python",
   "name": "python3"
  },
  "language_info": {
   "codemirror_mode": {
    "name": "ipython",
    "version": 3
   },
   "file_extension": ".py",
   "mimetype": "text/x-python",
   "name": "python",
   "nbconvert_exporter": "python",
   "pygments_lexer": "ipython3",
   "version": "3.8.10"
  },
  "orig_nbformat": 4
 },
 "nbformat": 4,
 "nbformat_minor": 2
}
